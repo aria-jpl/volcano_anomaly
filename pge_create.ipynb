{
 "cells": [
  {
   "cell_type": "markdown",
   "metadata": {},
   "source": [
    "# PGE Creation\n",
    "This notebook is the driver by which the *volcano-anomaly_notebook* will be processed in order to be available as an SDS PGE. The notebook *volcano-anomaly_submit_job* is then used to submit it to the SDS for execution.\n"
   ]
  },
  {
   "cell_type": "markdown",
   "metadata": {},
   "source": [
    "### 1. Set-up\n",
    "#### To start, we; enter the directory containing the notebook to be executed (this step assumes the repository has already been cloned locally), ensure that we are in the proper branch, then execute notebook-pge-wrapper to generate the files necessary to build and run the *papermill*'ed notebook as a PGE.\n",
    "\n",
    "#### Make note of the branch being used (e.g. *main* in this example), it will become part of the job specification name and used when submitting the job in the next notebook."
   ]
  },
  {
   "cell_type": "code",
   "execution_count": 22,
   "metadata": {},
   "outputs": [
    {
     "name": "stdout",
     "output_type": "stream",
     "text": [
      "M\tREADME.md\n",
      "M\tdocker/Dockerfile\n",
      "D\tdocker/hysds-io.json.volcano-anomaly_pge\n",
      "D\tdocker/job-spec.json.volcano-anomaly_pge\n",
      "M\tpele_setup.ipynb\n",
      "M\tpge_create.ipynb\n",
      "Your branch is up to date with 'origin/main'.\n",
      "lstm_obj.py is not a notebook, skipping...\n",
      "viz_utils.py is not a notebook, skipping...\n",
      "_context.json is not a notebook, skipping...\n",
      "__pycache__ is not a notebook, skipping...\n",
      "data_utils.py is not a notebook, skipping...\n",
      "inspecting notebook: volcano-anomaly_pge.ipynb\n",
      "generated docker/hysds-io.json.volcano-anomaly_pge\n",
      "generated docker/job-spec.json.volcano-anomaly_pge\n",
      "ON_DEMAND-MY_JOB_TYPE-2021-05-01T01:00:39.706438-fbbec is not a notebook, skipping...\n",
      "timeseries_demErr.h5 is not a notebook, skipping...\n"
     ]
    },
    {
     "name": "stderr",
     "output_type": "stream",
     "text": [
      "shell-init: error retrieving current directory: getcwd: cannot access parent directories: No such file or directory\n",
      "Traceback (most recent call last):\n",
      "  File \"/opt/conda/lib/python3.8/pkgutil.py\", line 415, in get_importer\n",
      "    importer = sys.path_importer_cache[path_item]\n",
      "KeyError: ''\n",
      "\n",
      "During handling of the above exception, another exception occurred:\n",
      "\n",
      "Traceback (most recent call last):\n",
      "  File \"/opt/conda/bin/pip\", line 7, in <module>\n",
      "    from pip._internal.cli.main import main\n",
      "  File \"/opt/conda/lib/python3.8/site-packages/pip/_internal/cli/main.py\", line 8, in <module>\n",
      "    from pip._internal.cli.autocompletion import autocomplete\n",
      "  File \"/opt/conda/lib/python3.8/site-packages/pip/_internal/cli/autocompletion.py\", line 9, in <module>\n",
      "    from pip._internal.cli.main_parser import create_main_parser\n",
      "  File \"/opt/conda/lib/python3.8/site-packages/pip/_internal/cli/main_parser.py\", line 7, in <module>\n",
      "    from pip._internal.cli import cmdoptions\n",
      "  File \"/opt/conda/lib/python3.8/site-packages/pip/_internal/cli/cmdoptions.py\", line 22, in <module>\n",
      "    from pip._internal.cli.progress_bars import BAR_TYPES\n",
      "  File \"/opt/conda/lib/python3.8/site-packages/pip/_internal/cli/progress_bars.py\", line 9, in <module>\n",
      "    from pip._internal.utils.logging import get_indentation\n",
      "  File \"/opt/conda/lib/python3.8/site-packages/pip/_internal/utils/logging.py\", line 14, in <module>\n",
      "    from pip._internal.utils.misc import ensure_dir\n",
      "  File \"/opt/conda/lib/python3.8/site-packages/pip/_internal/utils/misc.py\", line 20, in <module>\n",
      "    from pip._vendor import pkg_resources\n",
      "  File \"/opt/conda/lib/python3.8/site-packages/pip/_vendor/pkg_resources/__init__.py\", line 3252, in <module>\n",
      "    def _initialize_master_working_set():\n",
      "  File \"/opt/conda/lib/python3.8/site-packages/pip/_vendor/pkg_resources/__init__.py\", line 3235, in _call_aside\n",
      "    f(*args, **kwargs)\n",
      "  File \"/opt/conda/lib/python3.8/site-packages/pip/_vendor/pkg_resources/__init__.py\", line 3264, in _initialize_master_working_set\n",
      "    working_set = WorkingSet._build_master()\n",
      "  File \"/opt/conda/lib/python3.8/site-packages/pip/_vendor/pkg_resources/__init__.py\", line 574, in _build_master\n",
      "    ws = cls()\n",
      "  File \"/opt/conda/lib/python3.8/site-packages/pip/_vendor/pkg_resources/__init__.py\", line 567, in __init__\n",
      "    self.add_entry(entry)\n",
      "  File \"/opt/conda/lib/python3.8/site-packages/pip/_vendor/pkg_resources/__init__.py\", line 623, in add_entry\n",
      "    for dist in find_distributions(entry, True):\n",
      "  File \"/opt/conda/lib/python3.8/site-packages/pip/_vendor/pkg_resources/__init__.py\", line 1969, in find_distributions\n",
      "    importer = get_importer(path_item)\n",
      "  File \"/opt/conda/lib/python3.8/pkgutil.py\", line 419, in get_importer\n",
      "    importer = path_hook(path_item)\n",
      "  File \"<frozen importlib._bootstrap_external>\", line 1522, in path_hook_for_FileFinder\n",
      "  File \"<frozen importlib._bootstrap_external>\", line 107, in _path_isdir\n",
      "FileNotFoundError: [Errno 2] No such file or directory\n",
      "chdir: error retrieving current directory: getcwd: cannot access parent directories: No such file or directory\n",
      "Already on 'main'\n",
      "2021-05-05 18:42:55 [INFO] Input Notebook:  notebook_pges/volcano-anomaly_pge.ipynb\n",
      "2021-05-05 18:42:55 [INFO] Input Notebook:  notebook_pges/volcano-anomaly_pge.ipynb\n",
      "2021-05-05 18:42:55 [INFO] Input Notebook:  notebook_pges/volcano-anomaly_pge.ipynb\n"
     ]
    }
   ],
   "source": [
    "%%bash\n",
    "# This is a temporary workaround\n",
    "pip install --quiet -e /home/jovyan/notebook_pge_wrapper/\n",
    "\n",
    "cd ~/volcano-anomaly\n",
    "git checkout main\n",
    "notebook-pge-wrapper specs all"
   ]
  },
  {
   "cell_type": "markdown",
   "metadata": {},
   "source": [
    "### Manual edits.\n",
    "\n",
    "#### Edit docker/job-spec.json.sample_pge\n",
    "A manual edit to the job-spec file is necessary. In the line:\n",
    "\n",
    ">`    \"command\": \"notebook-pge-wrapper execute /home/ops/volcano-anomaly/notebook_pges/sample_pge.ipynb\",`\n",
    " \n",
    "Change *'ops'* to *'jovyan'*:\n",
    "\n",
    ">`    \"command\": \"notebook-pge-wrapper execute /home/jovyan/volcano-anomaly/notebook_pges/sample_pge.ipynb\",`\n",
    " \n",
    "#### Update the docker/Dockerfile\n",
    "The contents of the Dockerfile should be as follows:\n",
    "\n",
    "```\n",
    "FROM cae-artifactory.jpl.nasa.gov:16001/gov/nasa/jpl/nisar/sds/pcm/nisar_ade:r1.3\n",
    "\n",
    "ENV HOME=/home/jovyan \\\n",
    "    CONDA_DIR=/opt/conda\n",
    "\n",
    "USER root\n",
    "RUN $CONDA_DIR/bin/conda install -y nb_conda_kernels\n",
    "RUN $CONDA_DIR/bin/pip install 'ipykernel<5.0.0'\n",
    "\n",
    "RUN cd $HOME \\\n",
    "    && git clone https://github.com/hysds/notebook_pge_wrapper.git \\\n",
    "    && cd notebook_pge_wrapper \\\n",
    "    && $CONDA_DIR/bin/pip install -e .\n",
    "\n",
    "USER jovyan\n",
    "\n",
    "# copy your repo into the docker container\n",
    "################################################\n",
    "COPY . $HOME/volcano-anomaly\n",
    "################################################\n",
    "\n",
    "WORKDIR $HOME\n",
    "\n",
    "CMD [\"/bin/bash\", \"--login\"]\n",
    "```"
   ]
  },
  {
   "cell_type": "markdown",
   "metadata": {},
   "source": [
    "### 2. Commit changes\n",
    "#### The build process retrieves source code for the PGE from the GitHub repository, so it is necessary to commit and push all changes before building/rebuilding the PGE.\n",
    "#### If `git push` fails here, push the local repository to the remote manually (using JupyterLab or the Git CLI)"
   ]
  },
  {
   "cell_type": "code",
   "execution_count": null,
   "metadata": {},
   "outputs": [],
   "source": [
    "%%bash\n",
    "cd ~/volcano-anomaly\n",
    "git add -A\n",
    "git commit -m\"Results of notebook-pge-wrapper spec generation.\"\n",
    "git push"
   ]
  },
  {
   "cell_type": "markdown",
   "metadata": {},
   "source": [
    "### 3. Initialize the API client which will be used\n",
    "\n",
    "When prompted for the HySDS host, include the protocol, e.g. https://my-mozart.jpl.nasa.gov\n",
    "When prompted for \"HySDS cluster authenticated\", enter 'y' if the cluster requires a password to access."
   ]
  },
  {
   "cell_type": "code",
   "execution_count": null,
   "metadata": {},
   "outputs": [],
   "source": [
    "import os\n",
    "from pathlib import Path\n",
    "import otello\n",
    "if not os.path.exists(f\"{Path.home()}/.config/otello/config.yml\"):\n",
    "    otello.client.initialize()"
   ]
  },
  {
   "cell_type": "markdown",
   "metadata": {},
   "source": [
    "### 4. Specify the repository and branch to the api\n",
    "#### This creates a handle to the Jenkins build process for your repository/PGE.\n",
    "#### *Set \"account\" and \"repository_name\" to the correct value for the remote repository you created for this PGE.*"
   ]
  },
  {
   "cell_type": "code",
   "execution_count": null,
   "metadata": {},
   "outputs": [],
   "source": [
    "account = \"aria-jpl\"\n",
    "repository_name = \"volcano_anomaly\"\n",
    "repository_url = f\"https://github.com/{account}/{repository_name}.git\"\n",
    "branch = \"main\"\n",
    "\n",
    "ci = otello.CI(repo=repository_url, branch=branch)"
   ]
  },
  {
   "cell_type": "markdown",
   "metadata": {},
   "source": [
    "### 5. Registering the repository/job-type with the build pipeline\n",
    "#### The job-type/PGE must be registered with the build process before it can be built.\n",
    "#### Existing registrations for the job-type/PGE are removed first, to ensure that the cached versions on active worker nodes are invalidated and replaced."
   ]
  },
  {
   "cell_type": "code",
   "execution_count": null,
   "metadata": {},
   "outputs": [],
   "source": [
    "try:\n",
    "    if ci.check_job_exists():\n",
    "        print(\"Job exists, unregistering\")\n",
    "        ci.unregister()\n",
    "except Exception as e:\n",
    "    print(\"Exception : {}, trying to register anyway\".format(e))\n",
    "\n",
    "ci.register()"
   ]
  },
  {
   "cell_type": "markdown",
   "metadata": {},
   "source": [
    "### 6. Build the PGE"
   ]
  },
  {
   "cell_type": "code",
   "execution_count": null,
   "metadata": {},
   "outputs": [],
   "source": [
    "ci.submit_build()"
   ]
  },
  {
   "cell_type": "markdown",
   "metadata": {},
   "source": [
    "### 7. Wait for the build to resolve, then check whether the build was successful or not"
   ]
  },
  {
   "cell_type": "code",
   "execution_count": null,
   "metadata": {
    "pycharm": {
     "name": "#%%\n"
    }
   },
   "outputs": [],
   "source": [
    "import time\n",
    "move_on = False\n",
    "while not move_on:\n",
    "    try:\n",
    "        ci.get_build_status()\n",
    "        move_on = True\n",
    "    except Exception as e:\n",
    "        print(\"Waiting for build to start\")\n",
    "        time.sleep(10)\n",
    "    \n",
    "build_stat = ci.get_build_status()\n",
    "print(\"Build in progress.\", end=\"\")\n",
    "\n",
    "while (build_stat['building']):\n",
    "    time.sleep(10)\n",
    "    print(\".\", end=\"\", flush=True)\n",
    "    build_stat = ci.get_build_status()\n",
    "\n",
    "if (build_stat['result'] == 'FAILURE'):\n",
    "    print(\"\\nBuild failed.\")\n",
    "else:\n",
    "    print(\"\\nBuild completed successfully\")\n",
    "\n",
    "\n"
   ]
  }
 ],
 "metadata": {
  "kernelspec": {
   "display_name": "Python 3",
   "language": "python",
   "name": "python3"
  },
  "language_info": {
   "codemirror_mode": {
    "name": "ipython",
    "version": 3
   },
   "file_extension": ".py",
   "mimetype": "text/x-python",
   "name": "python",
   "nbconvert_exporter": "python",
   "pygments_lexer": "ipython3",
   "version": "3.8.2"
  }
 },
 "nbformat": 4,
 "nbformat_minor": 4
}